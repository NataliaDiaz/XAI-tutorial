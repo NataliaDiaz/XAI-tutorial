{
  "cells": [
    {
      "cell_type": "markdown",
      "metadata": {
        "id": "zzzhZ308vknS"
      },
      "source": [
        "# DIverse Counterfactual Explanations (DICE)"
      ]
    },
    {
      "cell_type": "markdown",
      "metadata": {
        "id": "QKc271XcwrbW"
      },
      "source": [
        "In this tutorial, you will learn how to implement a specific type of post-hoc explanations: counterfactual explanations. But what do counterfactual explanations mean?. This kind of explanations is intended to show how the model works by creating hypothetical examples  with a prediction with respect to the initial studied instance. In order to do so, we are going to focus on the application of DiCE(original article: Mothilal et al.[[1](https://arxiv.org/pdf/1905.07697.pdf)]) using the framework developped by Mothilal, Sharma and Tan https://github.com/interpretml/DiCE.\n",
        "\n"
      ]
    },
    {
      "cell_type": "markdown",
      "metadata": {
        "id": "pwSCM_eTzMAV"
      },
      "source": [
        "## How DiCE generate counterfactual explanations?"
      ]
    },
    {
      "cell_type": "markdown",
      "metadata": {
        "id": "jVCQT3eszW5d"
      },
      "source": [
        "The main idea is to generate a set of k counterfactual examples $\\{c_1, c_2, ..., c_k\\}$ such the decision of the model $f$ given an instance $x$ changes. However, we have to take into account that generating counterfactual examples with a high number of features that have changed is not the ideal approach (Diversity). In the other hand we need to consider counterfactual examples that are close to the original instance $x$ (Proximity) otherwise the explanations will not be useful. \n",
        "\n",
        "Diversity via Determinantal Point Process:\n",
        "\n",
        "\\begin{gather}\n",
        "dpp\\_diversity  = det(K) \n",
        "\\end{gather}\n",
        "where $K_{i,j} = \\frac{1}{1+dist(c_i,c_j)} $ and $dist(c_i,c_j)$ is a distanc metric.\n",
        "\n",
        "Proximity:\n",
        "\\begin{gather}\n",
        "Proximity  := -\\frac{1}{k} \\sum_{i=1}^{k} dist(c_i, x) \n",
        "\\end{gather}\n",
        "\n",
        "Beyond these main constraints, DiCE allows us to implement constraints that are related to \"real world\" problems (e.g., an upper bound for some variables)\n",
        "\n",
        "\n",
        "Based on these definitions DiCE considers the next loss function to be optimized.\n",
        "\n",
        "\\begin{gather}\n",
        "C(x)  = arg\\;min_{c_1, c_2, ..., c_k} \\frac{1}{k}\\sum_{i=1}^{k} yloss(f(c_i), y) + \\frac{\\lambda_1}{k} \\sum_{i=1}^{k} dist(c_i, x) \\\\ - \\lambda_2 dpp\\_diversity(c_1, c_2, ..., c_k)\n",
        "\\end{gather}\n",
        "\n",
        "where $yloss()$ is a function that measures the distance between $f(c_i)$ and the desired outcome $y$. Both $\\lambda_1$ and $\\lambda_2$ are hyperparameters that balance the three parts of the loss function."
      ]
    },
    {
      "cell_type": "markdown",
      "metadata": {
        "id": "acR6xaSY8Yc0"
      },
      "source": [
        "## Use Case: Bipolar Disease Crisis Prediction"
      ]
    },
    {
      "cell_type": "markdown",
      "metadata": {
        "id": "BgrOrQQC9NGy"
      },
      "source": [
        "Now we understand how to generate counterfactual explanations, let's focus on a familiar use case in which counterfactual examples are  interesting: Bipolar Disease Crisis Prediction.\n",
        "\n",
        "Bipolar disorder, formerly called manic depression, is a mental health condition that causes extreme mood swings that include emotional highs (mania or hypomania) and lows (depression) which often come accompanied by different features (i.e., physical and psychological features).\n",
        "\n",
        "In this notebook we will create a Bipolar Disease Crisis Prediciton Model using the data available [here](https://datasets.simula.no/depresjon/) and then apply Dice in order to generate counterfactual explanations that will help psychiatrists to understand the causes behind a potential patient tendency towards a mania or depression episode.\n",
        "\n",
        "The use case is organized as follows:\n",
        "1. We load the processed data.\n",
        "2. We develop a Machine Learning based model for the bipolar disease prediction: the [XGBoost](https://arxiv.org/abs/1603.02754).\n",
        "3. We apply DiCE to generate counterfactual explanations (https://github.com/interpretml/DiCE).\n"
      ]
    },
    {
      "cell_type": "code",
      "source": [
        "################## Downdload the git repository ############\n",
        "! git clone https://github.com/ayoubelqadi/xai-tutorial.git"
      ],
      "metadata": {
        "colab": {
          "base_uri": "https://localhost:8080/"
        },
        "id": "kqTNDh0DdgPx",
        "outputId": "6d390e94-876b-49db-ce2b-1d2d0b8031bc"
      },
      "execution_count": null,
      "outputs": [
        {
          "output_type": "stream",
          "name": "stdout",
          "text": [
            "Cloning into 'xai-tutorial'...\n",
            "remote: Enumerating objects: 94, done.\u001b[K\n",
            "remote: Counting objects: 100% (94/94), done.\u001b[K\n",
            "remote: Compressing objects: 100% (70/70), done.\u001b[K\n",
            "remote: Total 94 (delta 20), reused 86 (delta 18), pack-reused 0\u001b[K\n",
            "Unpacking objects: 100% (94/94), done.\n"
          ]
        }
      ]
    },
    {
      "cell_type": "code",
      "source": [
        "######### Change  directory for running the data processing scripts\n",
        "import os\n",
        "os.chdir('xai-tutorial/notebooks')"
      ],
      "metadata": {
        "id": "pMRsTomLdjxs"
      },
      "execution_count": null,
      "outputs": []
    },
    {
      "cell_type": "code",
      "execution_count": null,
      "metadata": {
        "id": "QNMGiu5DdFME",
        "colab": {
          "base_uri": "https://localhost:8080/",
          "height": 35
        },
        "outputId": "8912f357-cc35-43cb-e752-dff35d2eac7a"
      },
      "outputs": [
        {
          "output_type": "display_data",
          "data": {
            "text/plain": [
              "<Figure size 432x288 with 0 Axes>"
            ]
          },
          "metadata": {}
        }
      ],
      "source": [
        "%run ../src/setup.py\n",
        "%run ../src/process_data.py"
      ]
    },
    {
      "cell_type": "markdown",
      "metadata": {
        "id": "YL3LJhEG_LqC"
      },
      "source": [
        "### Setting the Environment\n"
      ]
    },
    {
      "cell_type": "code",
      "execution_count": null,
      "metadata": {
        "id": "dh9RmgzFzLQ7"
      },
      "outputs": [],
      "source": [
        "import sys\n",
        "import warnings\n",
        "warnings.filterwarnings(\"ignore\")\n",
        "\n",
        "import pandas as pd\n",
        "import numpy as np\n",
        "\n",
        "pd.set_option(\"max_rows\", 500)\n",
        "pd.set_option(\"max_columns\", 500)\n",
        "\n",
        "\n",
        "import matplotlib.pyplot as plt\n",
        "import seaborn as sns\n",
        "plt.rc(\"font\", size=16)\n",
        "\n",
        "from sklearn import metrics\n",
        "from sklearn import model_selection\n",
        "\n"
      ]
    },
    {
      "cell_type": "code",
      "execution_count": null,
      "metadata": {
        "id": "CHy2QLNvdFMG"
      },
      "outputs": [],
      "source": [
        "path_features = \"../data/features.csv\"\n",
        "path_target = \"../data/target.csv\"\n",
        "features = pd.read_csv(path_features)\n",
        "#features[\"edu\"] = features[\"edu\"].astype(str)\n",
        "features[\"edu\"] = features[\"edu\"].apply(lambda x: x if isinstance(x, str) else \"0\")\n",
        "features.replace(to_replace={np.nan: 0.0}, inplace=True)\n",
        "target = pd.read_csv(path_target)"
      ]
    },
    {
      "cell_type": "markdown",
      "metadata": {
        "id": "qegqXiCr_lMf"
      },
      "source": [
        "### Target Distribution\n",
        "\n",
        "- Bipolar II: **1**\n",
        "\n",
        "- Unipolar Depressive: **0** "
      ]
    },
    {
      "cell_type": "code",
      "execution_count": null,
      "metadata": {
        "id": "yCL5Q2hj_cNr",
        "colab": {
          "base_uri": "https://localhost:8080/",
          "height": 742
        },
        "outputId": "0d1e6047-62d7-4fa9-e87b-5493f9cc6574"
      },
      "outputs": [
        {
          "output_type": "execute_result",
          "data": {
            "text/plain": [
              "<matplotlib.axes._subplots.AxesSubplot at 0x7fafd06e3350>"
            ]
          },
          "metadata": {},
          "execution_count": 27
        },
        {
          "output_type": "display_data",
          "data": {
            "text/plain": [
              "<Figure size 864x864 with 1 Axes>"
            ],
            "image/png": "[encoded data removed]"
          },
          "metadata": {}
        }
      ],
      "source": [
        "sns.set_style(\"darkgrid\")\n",
        "fig, ax = plt.subplots(figsize=(12,12))\n",
        "counter = target[\"afftype\"].value_counts()\n",
        "counter.rename(index={1.0: \"Bipolar II\", \n",
        "                       0.0: \"Unipolar Depressive\"},\n",
        "               inplace=True\n",
        "              )\n",
        "ax.set_xlabel(\"# Cases\", size=16)\n",
        "counter.plot(kind=\"barh\", ax=ax)"
      ]
    },
    {
      "cell_type": "markdown",
      "metadata": {
        "id": "NPRedI8KdFMI"
      },
      "source": [
        "## Recoding Original Dataset\n",
        "**In order to genreate the counterfactual explanations, we need the data without the encoding used by the source of data.**"
      ]
    },
    {
      "cell_type": "code",
      "execution_count": null,
      "metadata": {
        "id": "2U9WjXOYdFMI"
      },
      "outputs": [],
      "source": [
        "def inverse_transform(df):\n",
        "    df_ = df.copy()\n",
        "    df_[\"gender\"].replace(to_replace={2.0: \"male\", 1.0: \"female\"}, inplace=True)\n",
        "    df_[\"work\"].replace(to_replace={2.0: \"unemployed/sick/pension\", 1.0: \"working/studying\"}, inplace=True)\n",
        "    df_[\"marriage\"].replace(to_replace={1.0: \"married/cohabiting\", 2.0: \"single\"}, inplace=True)\n",
        "    df_[\"melanch\"].replace(to_replace={1.0: \"melancholia\", 2.0: \"no melancholia\", 0.0: \"no data\"}, inplace=True)\n",
        "    df_[\"inpatient\"].replace(to_replace={1.0: \"inpatient\", 2.0: \"outpatient\"}, inplace=True)\n",
        "    return df_"
      ]
    },
    {
      "cell_type": "code",
      "execution_count": null,
      "metadata": {
        "id": "w-k47412dFMI"
      },
      "outputs": [],
      "source": [
        "features = inverse_transform(features)"
      ]
    },
    {
      "cell_type": "code",
      "execution_count": null,
      "metadata": {
        "id": "vD_muFhAdFMJ"
      },
      "outputs": [],
      "source": [
        "x_train, x_test, y_train, y_test = model_selection.train_test_split(features, \n",
        "                                                                    target, \n",
        "                                                                    test_size=0.3, \n",
        "                                                                    random_state=14,\n",
        "                                                                    stratify=target)"
      ]
    },
    {
      "cell_type": "code",
      "execution_count": null,
      "metadata": {
        "colab": {
          "base_uri": "https://localhost:8080/",
          "height": 844
        },
        "id": "NTpVoqqEdFMJ",
        "outputId": "39de905a-474c-47d0-e9f0-a3bba1e29187"
      },
      "outputs": [
        {
          "output_type": "execute_result",
          "data": {
            "text/plain": [
              "    days  gender    age         melanch   inpatient    edu  \\\n",
              "20    14  female  65-69  no melancholia   inpatient      0   \n",
              "13    14  female  60-64  no melancholia  outpatient   6-10   \n",
              "1     18    male  40-44  no melancholia  outpatient   6-10   \n",
              "2     13  female  45-49  no melancholia  outpatient   6-10   \n",
              "3     13    male  25-29  no melancholia  outpatient  11-15   \n",
              "4     13    male  50-54  no melancholia  outpatient  11-15   \n",
              "21    16  female  30-34  no melancholia   inpatient  16-20   \n",
              "12    14    male  35-39  no melancholia  outpatient  11-15   \n",
              "15    16  female  45-49  no melancholia  outpatient  11-15   \n",
              "17    13    male  50-54  no melancholia   inpatient  16-20   \n",
              "0     11    male  35-39  no melancholia  outpatient   6-10   \n",
              "5      7  female  35-39  no melancholia  outpatient   6-10   \n",
              "7      5    male  25-29         no data  outpatient  11-15   \n",
              "11    12    male  40-44  no melancholia  outpatient   6-10   \n",
              "16    13  female  50-54  no melancholia  outpatient   6-10   \n",
              "\n",
              "              marriage                     work  madrs1  madrs2  \\\n",
              "20              single  unemployed/sick/pension    29.0    28.0   \n",
              "13              single  unemployed/sick/pension    28.0    19.0   \n",
              "1               single  unemployed/sick/pension    24.0    11.0   \n",
              "2               single  unemployed/sick/pension    24.0    25.0   \n",
              "3   married/cohabiting         working/studying    20.0    16.0   \n",
              "4               single  unemployed/sick/pension    26.0    26.0   \n",
              "21              single  unemployed/sick/pension    29.0    23.0   \n",
              "12              single  unemployed/sick/pension    18.0    13.0   \n",
              "15  married/cohabiting  unemployed/sick/pension    13.0    17.0   \n",
              "17              single  unemployed/sick/pension    26.0    21.0   \n",
              "0   married/cohabiting  unemployed/sick/pension    19.0    19.0   \n",
              "5   married/cohabiting  unemployed/sick/pension    18.0    15.0   \n",
              "7   married/cohabiting  unemployed/sick/pension    20.0    16.0   \n",
              "11              single  unemployed/sick/pension    25.0    21.0   \n",
              "16  married/cohabiting  unemployed/sick/pension    17.0    15.0   \n",
              "\n",
              "    activity_mean  activity_std  \n",
              "20        287.349       279.429  \n",
              "13        205.845       262.523  \n",
              "1         153.673       330.808  \n",
              "2         265.300       399.881  \n",
              "3         451.672       497.075  \n",
              "4         267.576       340.471  \n",
              "21        440.540       415.779  \n",
              "12        390.093       383.131  \n",
              "15        338.069       424.913  \n",
              "17        269.876       333.094  \n",
              "0         276.751       357.105  \n",
              "5         361.821       382.775  \n",
              "7         316.545       503.483  \n",
              "11        276.281       320.105  \n",
              "16        147.850       211.517  "
            ],
            "text/html": [
              "\n",
              "  <div id=\"df-1db71115-90a3-41aa-8585-72f2d9c818b6\">\n",
              "    <div class=\"colab-df-container\">\n",
              "      <div>\n",
              "<style scoped>\n",
              "    .dataframe tbody tr th:only-of-type {\n",
              "        vertical-align: middle;\n",
              "    }\n",
              "\n",
              "    .dataframe tbody tr th {\n",
              "        vertical-align: top;\n",
              "    }\n",
              "\n",
              "    .dataframe thead th {\n",
              "        text-align: right;\n",
              "    }\n",
              "</style>\n",
              "<table border=\"1\" class=\"dataframe\">\n",
              "  <thead>\n",
              "    <tr style=\"text-align: right;\">\n",
              "      <th></th>\n",
              "      <th>days</th>\n",
              "      <th>gender</th>\n",
              "      <th>age</th>\n",
              "      <th>melanch</th>\n",
              "      <th>inpatient</th>\n",
              "      <th>edu</th>\n",
              "      <th>marriage</th>\n",
              "      <th>work</th>\n",
              "      <th>madrs1</th>\n",
              "      <th>madrs2</th>\n",
              "      <th>activity_mean</th>\n",
              "      <th>activity_std</th>\n",
              "    </tr>\n",
              "  </thead>\n",
              "  <tbody>\n",
              "    <tr>\n",
              "      <th>20</th>\n",
              "      <td>14</td>\n",
              "      <td>female</td>\n",
              "      <td>65-69</td>\n",
              "      <td>no melancholia</td>\n",
              "      <td>inpatient</td>\n",
              "      <td>0</td>\n",
              "      <td>single</td>\n",
              "      <td>unemployed/sick/pension</td>\n",
              "      <td>29.0</td>\n",
              "      <td>28.0</td>\n",
              "      <td>287.349</td>\n",
              "      <td>279.429</td>\n",
              "    </tr>\n",
              "    <tr>\n",
              "      <th>13</th>\n",
              "      <td>14</td>\n",
              "      <td>female</td>\n",
              "      <td>60-64</td>\n",
              "      <td>no melancholia</td>\n",
              "      <td>outpatient</td>\n",
              "      <td>6-10</td>\n",
              "      <td>single</td>\n",
              "      <td>unemployed/sick/pension</td>\n",
              "      <td>28.0</td>\n",
              "      <td>19.0</td>\n",
              "      <td>205.845</td>\n",
              "      <td>262.523</td>\n",
              "    </tr>\n",
              "    <tr>\n",
              "      <th>1</th>\n",
              "      <td>18</td>\n",
              "      <td>male</td>\n",
              "      <td>40-44</td>\n",
              "      <td>no melancholia</td>\n",
              "      <td>outpatient</td>\n",
              "      <td>6-10</td>\n",
              "      <td>single</td>\n",
              "      <td>unemployed/sick/pension</td>\n",
              "      <td>24.0</td>\n",
              "      <td>11.0</td>\n",
              "      <td>153.673</td>\n",
              "      <td>330.808</td>\n",
              "    </tr>\n",
              "    <tr>\n",
              "      <th>2</th>\n",
              "      <td>13</td>\n",
              "      <td>female</td>\n",
              "      <td>45-49</td>\n",
              "      <td>no melancholia</td>\n",
              "      <td>outpatient</td>\n",
              "      <td>6-10</td>\n",
              "      <td>single</td>\n",
              "      <td>unemployed/sick/pension</td>\n",
              "      <td>24.0</td>\n",
              "      <td>25.0</td>\n",
              "      <td>265.300</td>\n",
              "      <td>399.881</td>\n",
              "    </tr>\n",
              "    <tr>\n",
              "      <th>3</th>\n",
              "      <td>13</td>\n",
              "      <td>male</td>\n",
              "      <td>25-29</td>\n",
              "      <td>no melancholia</td>\n",
              "      <td>outpatient</td>\n",
              "      <td>11-15</td>\n",
              "      <td>married/cohabiting</td>\n",
              "      <td>working/studying</td>\n",
              "      <td>20.0</td>\n",
              "      <td>16.0</td>\n",
              "      <td>451.672</td>\n",
              "      <td>497.075</td>\n",
              "    </tr>\n",
              "    <tr>\n",
              "      <th>4</th>\n",
              "      <td>13</td>\n",
              "      <td>male</td>\n",
              "      <td>50-54</td>\n",
              "      <td>no melancholia</td>\n",
              "      <td>outpatient</td>\n",
              "      <td>11-15</td>\n",
              "      <td>single</td>\n",
              "      <td>unemployed/sick/pension</td>\n",
              "      <td>26.0</td>\n",
              "      <td>26.0</td>\n",
              "      <td>267.576</td>\n",
              "      <td>340.471</td>\n",
              "    </tr>\n",
              "    <tr>\n",
              "      <th>21</th>\n",
              "      <td>16</td>\n",
              "      <td>female</td>\n",
              "      <td>30-34</td>\n",
              "      <td>no melancholia</td>\n",
              "      <td>inpatient</td>\n",
              "      <td>16-20</td>\n",
              "      <td>single</td>\n",
              "      <td>unemployed/sick/pension</td>\n",
              "      <td>29.0</td>\n",
              "      <td>23.0</td>\n",
              "      <td>440.540</td>\n",
              "      <td>415.779</td>\n",
              "    </tr>\n",
              "    <tr>\n",
              "      <th>12</th>\n",
              "      <td>14</td>\n",
              "      <td>male</td>\n",
              "      <td>35-39</td>\n",
              "      <td>no melancholia</td>\n",
              "      <td>outpatient</td>\n",
              "      <td>11-15</td>\n",
              "      <td>single</td>\n",
              "      <td>unemployed/sick/pension</td>\n",
              "      <td>18.0</td>\n",
              "      <td>13.0</td>\n",
              "      <td>390.093</td>\n",
              "      <td>383.131</td>\n",
              "    </tr>\n",
              "    <tr>\n",
              "      <th>15</th>\n",
              "      <td>16</td>\n",
              "      <td>female</td>\n",
              "      <td>45-49</td>\n",
              "      <td>no melancholia</td>\n",
              "      <td>outpatient</td>\n",
              "      <td>11-15</td>\n",
              "      <td>married/cohabiting</td>\n",
              "      <td>unemployed/sick/pension</td>\n",
              "      <td>13.0</td>\n",
              "      <td>17.0</td>\n",
              "      <td>338.069</td>\n",
              "      <td>424.913</td>\n",
              "    </tr>\n",
              "    <tr>\n",
              "      <th>17</th>\n",
              "      <td>13</td>\n",
              "      <td>male</td>\n",
              "      <td>50-54</td>\n",
              "      <td>no melancholia</td>\n",
              "      <td>inpatient</td>\n",
              "      <td>16-20</td>\n",
              "      <td>single</td>\n",
              "      <td>unemployed/sick/pension</td>\n",
              "      <td>26.0</td>\n",
              "      <td>21.0</td>\n",
              "      <td>269.876</td>\n",
              "      <td>333.094</td>\n",
              "    </tr>\n",
              "    <tr>\n",
              "      <th>0</th>\n",
              "      <td>11</td>\n",
              "      <td>male</td>\n",
              "      <td>35-39</td>\n",
              "      <td>no melancholia</td>\n",
              "      <td>outpatient</td>\n",
              "      <td>6-10</td>\n",
              "      <td>married/cohabiting</td>\n",
              "      <td>unemployed/sick/pension</td>\n",
              "      <td>19.0</td>\n",
              "      <td>19.0</td>\n",
              "      <td>276.751</td>\n",
              "      <td>357.105</td>\n",
              "    </tr>\n",
              "    <tr>\n",
              "      <th>5</th>\n",
              "      <td>7</td>\n",
              "      <td>female</td>\n",
              "      <td>35-39</td>\n",
              "      <td>no melancholia</td>\n",
              "      <td>outpatient</td>\n",
              "      <td>6-10</td>\n",
              "      <td>married/cohabiting</td>\n",
              "      <td>unemployed/sick/pension</td>\n",
              "      <td>18.0</td>\n",
              "      <td>15.0</td>\n",
              "      <td>361.821</td>\n",
              "      <td>382.775</td>\n",
              "    </tr>\n",
              "    <tr>\n",
              "      <th>7</th>\n",
              "      <td>5</td>\n",
              "      <td>male</td>\n",
              "      <td>25-29</td>\n",
              "      <td>no data</td>\n",
              "      <td>outpatient</td>\n",
              "      <td>11-15</td>\n",
              "      <td>married/cohabiting</td>\n",
              "      <td>unemployed/sick/pension</td>\n",
              "      <td>20.0</td>\n",
              "      <td>16.0</td>\n",
              "      <td>316.545</td>\n",
              "      <td>503.483</td>\n",
              "    </tr>\n",
              "    <tr>\n",
              "      <th>11</th>\n",
              "      <td>12</td>\n",
              "      <td>male</td>\n",
              "      <td>40-44</td>\n",
              "      <td>no melancholia</td>\n",
              "      <td>outpatient</td>\n",
              "      <td>6-10</td>\n",
              "      <td>single</td>\n",
              "      <td>unemployed/sick/pension</td>\n",
              "      <td>25.0</td>\n",
              "      <td>21.0</td>\n",
              "      <td>276.281</td>\n",
              "      <td>320.105</td>\n",
              "    </tr>\n",
              "    <tr>\n",
              "      <th>16</th>\n",
              "      <td>13</td>\n",
              "      <td>female</td>\n",
              "      <td>50-54</td>\n",
              "      <td>no melancholia</td>\n",
              "      <td>outpatient</td>\n",
              "      <td>6-10</td>\n",
              "      <td>married/cohabiting</td>\n",
              "      <td>unemployed/sick/pension</td>\n",
              "      <td>17.0</td>\n",
              "      <td>15.0</td>\n",
              "      <td>147.850</td>\n",
              "      <td>211.517</td>\n",
              "    </tr>\n",
              "  </tbody>\n",
              "</table>\n",
              "</div>\n",
              "      <button class=\"colab-df-convert\" onclick=\"convertToInteractive('df-1db71115-90a3-41aa-8585-72f2d9c818b6')\"\n",
              "              title=\"Convert this dataframe to an interactive table.\"\n",
              "              style=\"display:none;\">\n",
              "        \n",
              "  <svg xmlns=\"http://www.w3.org/2000/svg\" height=\"24px\"viewBox=\"0 0 24 24\"\n",
              "       width=\"24px\">\n",
              "    <path d=\"M0 0h24v24H0V0z\" fill=\"none\"/>\n",
              "    <path d=\"M18.56 5.44l.94 2.06.94-2.06 2.06-.94-2.06-.94-.94-2.06-.94 2.06-2.06.94zm-11 1L8.5 8.5l.94-2.06 2.06-.94-2.06-.94L8.5 2.5l-.94 2.06-2.06.94zm10 10l.94 2.06.94-2.06 2.06-.94-2.06-.94-.94-2.06-.94 2.06-2.06.94z\"/><path d=\"M17.41 7.96l-1.37-1.37c-.4-.4-.92-.59-1.43-.59-.52 0-1.04.2-1.43.59L10.3 9.45l-7.72 7.72c-.78.78-.78 2.05 0 2.83L4 21.41c.39.39.9.59 1.41.59.51 0 1.02-.2 1.41-.59l7.78-7.78 2.81-2.81c.8-.78.8-2.07 0-2.86zM5.41 20L4 18.59l7.72-7.72 1.47 1.35L5.41 20z\"/>\n",
              "  </svg>\n",
              "      </button>\n",
              "      \n",
              "  <style>\n",
              "    .colab-df-container {\n",
              "      display:flex;\n",
              "      flex-wrap:wrap;\n",
              "      gap: 12px;\n",
              "    }\n",
              "\n",
              "    .colab-df-convert {\n",
              "      background-color: #E8F0FE;\n",
              "      border: none;\n",
              "      border-radius: 50%;\n",
              "      cursor: pointer;\n",
              "      display: none;\n",
              "      fill: #1967D2;\n",
              "      height: 32px;\n",
              "      padding: 0 0 0 0;\n",
              "      width: 32px;\n",
              "    }\n",
              "\n",
              "    .colab-df-convert:hover {\n",
              "      background-color: #E2EBFA;\n",
              "      box-shadow: 0px 1px 2px rgba(60, 64, 67, 0.3), 0px 1px 3px 1px rgba(60, 64, 67, 0.15);\n",
              "      fill: #174EA6;\n",
              "    }\n",
              "\n",
              "    [theme=dark] .colab-df-convert {\n",
              "      background-color: #3B4455;\n",
              "      fill: #D2E3FC;\n",
              "    }\n",
              "\n",
              "    [theme=dark] .colab-df-convert:hover {\n",
              "      background-color: #434B5C;\n",
              "      box-shadow: 0px 1px 3px 1px rgba(0, 0, 0, 0.15);\n",
              "      filter: drop-shadow(0px 1px 2px rgba(0, 0, 0, 0.3));\n",
              "      fill: #FFFFFF;\n",
              "    }\n",
              "  </style>\n",
              "\n",
              "      <script>\n",
              "        const buttonEl =\n",
              "          document.querySelector('#df-1db71115-90a3-41aa-8585-72f2d9c818b6 button.colab-df-convert');\n",
              "        buttonEl.style.display =\n",
              "          google.colab.kernel.accessAllowed ? 'block' : 'none';\n",
              "\n",
              "        async function convertToInteractive(key) {\n",
              "          const element = document.querySelector('#df-1db71115-90a3-41aa-8585-72f2d9c818b6');\n",
              "          const dataTable =\n",
              "            await google.colab.kernel.invokeFunction('convertToInteractive',\n",
              "                                                     [key], {});\n",
              "          if (!dataTable) return;\n",
              "\n",
              "          const docLinkHtml = 'Like what you see? Visit the ' +\n",
              "            '<a target=\"_blank\" href=https://colab.research.google.com/notebooks/data_table.ipynb>data table notebook</a>'\n",
              "            + ' to learn more about interactive tables.';\n",
              "          element.innerHTML = '';\n",
              "          dataTable['output_type'] = 'display_data';\n",
              "          await google.colab.output.renderOutput(dataTable, element);\n",
              "          const docLink = document.createElement('div');\n",
              "          docLink.innerHTML = docLinkHtml;\n",
              "          element.appendChild(docLink);\n",
              "        }\n",
              "      </script>\n",
              "    </div>\n",
              "  </div>\n",
              "  "
            ]
          },
          "metadata": {},
          "execution_count": 31
        }
      ],
      "source": [
        "x_train\n"
      ]
    },
    {
      "cell_type": "markdown",
      "metadata": {
        "id": "pvejXjbB_xig"
      },
      "source": [
        "### Model Training\n",
        "\n",
        "\n"
      ]
    },
    {
      "cell_type": "code",
      "execution_count": null,
      "metadata": {
        "id": "PCxOZZpTdFMK"
      },
      "outputs": [],
      "source": [
        "from sklearn.compose import ColumnTransformer\n",
        "from sklearn.pipeline import Pipeline\n",
        "from sklearn.preprocessing import OneHotEncoder\n",
        "from sklearn.ensemble import RandomForestClassifier"
      ]
    },
    {
      "cell_type": "code",
      "execution_count": null,
      "metadata": {
        "id": "kQkAXGLZdFML"
      },
      "outputs": [],
      "source": [
        "categoric_features = [\n",
        "    'gender', \n",
        "    'work', \n",
        "    'marriage',\n",
        "    'melanch',\n",
        "    'inpatient',\n",
        "    \"age\",\n",
        "    \"edu\"\n",
        "]\n",
        "numeric_features = set(features.columns)-set(categoric_features)"
      ]
    },
    {
      "cell_type": "markdown",
      "metadata": {
        "id": "Pf8DYntmdFML"
      },
      "source": [
        "**Since the dataset is small, we need to precise to the categorical encoder the different categories of each categorical feature**"
      ]
    },
    {
      "cell_type": "code",
      "execution_count": null,
      "metadata": {
        "id": "h9uQK77ddFML"
      },
      "outputs": [],
      "source": [
        "cat_types = []\n",
        "for cat in categoric_features:\n",
        "    cat_i = list(features[cat].unique())\n",
        "    cat_types.append(cat_i)"
      ]
    },
    {
      "cell_type": "code",
      "execution_count": null,
      "metadata": {
        "id": "K7Emo7ZZdFMM"
      },
      "outputs": [],
      "source": [
        "categorical_transformer = Pipeline(steps=[('onehot', OneHotEncoder(categories=cat_types))])\n",
        "preprocessor = ColumnTransformer(transformers=[('categorical', categorical_transformer, categoric_features)])\n"
      ]
    },
    {
      "cell_type": "code",
      "execution_count": null,
      "metadata": {
        "id": "3p_vYvVGdFMM"
      },
      "outputs": [],
      "source": [
        "params_rf = {\n",
        "    \"n_estimators\": 50,\n",
        "    \"max_depth\": 8,\n",
        "    \"random_state\":27, \n",
        "}\n",
        "rf = RandomForestClassifier(**params_rf)"
      ]
    },
    {
      "cell_type": "code",
      "execution_count": null,
      "metadata": {
        "tags": [],
        "id": "G00B1BM5dFMM"
      },
      "outputs": [],
      "source": [
        "#Model object: takes original data, processes it and applies the random forest\n",
        "clf_rf = Pipeline(steps=[\n",
        "                      ('preprocessor', preprocessor),\n",
        "                      ('classifier', rf)\n",
        "])\n",
        "model = clf_rf.fit(x_train , y_train)"
      ]
    },
    {
      "cell_type": "code",
      "execution_count": null,
      "metadata": {
        "id": "77qvrh9C_83G",
        "tags": [],
        "colab": {
          "base_uri": "https://localhost:8080/",
          "height": 546
        },
        "outputId": "9d99c0a3-e8f9-42f1-f70c-2f99fea979e0"
      },
      "outputs": [
        {
          "output_type": "execute_result",
          "data": {
            "text/plain": [
              "Text(0.5, 1.0, 'Confusion Matrix (Train set)')"
            ]
          },
          "metadata": {},
          "execution_count": 38
        },
        {
          "output_type": "display_data",
          "data": {
            "text/plain": [
              "<Figure size 1152x576 with 4 Axes>"
            ],
            "image/png": "[encoded data removed]"
          },
          "metadata": {}
        }
      ],
      "source": [
        "y_hat = clf_rf.predict(x_test)\n",
        "cf = metrics.confusion_matrix(y_pred=y_hat, y_true=y_test)\n",
        "cf_train = metrics.confusion_matrix(y_pred=clf_rf.predict(x_train), y_true=y_train)\n",
        "names_df = [\n",
        "    \"Unipolar Disease\",\n",
        "    \"Bipolar II\"\n",
        "]\n",
        "cf_df = pd.DataFrame(data=cf, columns=names_df, index=names_df)\n",
        "cf_train_df = pd.DataFrame(data=cf_train, columns=names_df, index=names_df)\n",
        "fig, ax = plt.subplots(ncols=2, figsize=(16,8))\n",
        "\n",
        "sns.heatmap(cf_df, fmt=\"d\",annot=True, ax=ax[0])\n",
        "ax[0].set_xlabel(\"Model Prediction\", size=16)\n",
        "ax[0].set_ylabel(\"Real Value\", size=16)\n",
        "ax[0].set_title(\"Confusion Matrix (Test set)\", size=20)\n",
        "\n",
        "sns.heatmap(cf_train_df, fmt=\"d\",annot=True, ax=ax[1])\n",
        "ax[1].set_xlabel(\"Model Prediction\", size=16)\n",
        "ax[1].set_ylabel(\"Real Value\", size=16)\n",
        "ax[1].set_title(\"Confusion Matrix (Train set)\", size=20)"
      ]
    },
    {
      "cell_type": "markdown",
      "metadata": {
        "id": "U1ligznoAoNH"
      },
      "source": [
        "### DiCE "
      ]
    },
    {
      "cell_type": "code",
      "execution_count": null,
      "metadata": {
        "id": "cYKO_jmGAsnN"
      },
      "outputs": [],
      "source": [
        "#Loading the dice module\n",
        "import dice_ml\n",
        "from dice_ml.utils import helpers \n",
        "import json  "
      ]
    },
    {
      "cell_type": "code",
      "execution_count": null,
      "metadata": {
        "id": "dgt2BjC-Atzg"
      },
      "outputs": [],
      "source": [
        "#DiCE data object\n",
        "X = pd.concat([features, target], axis=1)\n",
        "#{1.0: \"Bipolar II\", 0.0: \"Unipolar Depressive\"}\n",
        "data = dice_ml.Data(dataframe=X, continuous_features=list(numeric_features), outcome_name='afftype')\n",
        "#DiCE model object\n",
        "model_exp = dice_ml.Model(model=model, backend='sklearn')\n",
        "#Creates the explanations \n",
        "exp = dice_ml.Dice(data, model_exp, method=\"random\")"
      ]
    },
    {
      "cell_type": "code",
      "source": [
        "patient_index = 2\n",
        "\n",
        "# Patient real target value\n",
        "diagnosis_map = {1.0: \"Bipolar II\", \n",
        "                0.0: \"Unipolar Depressive\"}\n",
        "print(\"-------Patient Real Diagnosis------\")\n",
        "\n",
        "print(y.replace(diagnosis_map).iloc[patient_index])\n",
        "print(\"-------Patient Predicted Diagnosis------\")\n",
        "pred_class = clf_rf.predict(X.loc[patient_index:patient_index, :])[0]\n",
        "if pred_class==0.0:\n",
        "    pred_diagnosis = diagnosis_map[0.0]\n",
        "    p1 = clf_rf.predict_proba(X.loc[patient_index:patient_index, :])[0][0]\n",
        "    p1_round = round(p1,3)\n",
        "else:\n",
        "    pred_diagnosis = diagnosis_map[1.0]\n",
        "    p1 = clf_rf.predict_proba(X.loc[patient_index:patient_index, :])[0][1]\n",
        "    p1_round = round(p1,3)\n",
        "print(f'Probability of being diagnosed with a {pred_diagnosis} \\n{p1_round}')"
      ],
      "metadata": {
        "colab": {
          "base_uri": "https://localhost:8080/"
        },
        "id": "Mpy34EDgEe9Q",
        "outputId": "c0363dc5-7e77-4667-a772-8d4a09af605e"
      },
      "execution_count": null,
      "outputs": [
        {
          "output_type": "stream",
          "name": "stdout",
          "text": [
            "-------Patient Real Diagnosis------\n",
            "Unipolar Depressive\n",
            "-------Patient Predicted Diagnosis------\n",
            "Probability of being diagnosed with a Unipolar Depressive \n",
            "0.72\n"
          ]
        }
      ]
    },
    {
      "cell_type": "code",
      "execution_count": null,
      "metadata": {
        "colab": {
          "base_uri": "https://localhost:8080/",
          "height": 366
        },
        "id": "cCuhDFYOA16b",
        "outputId": "e3be204a-219b-430f-d338-1fe945c7cdb7"
      },
      "outputs": [
        {
          "output_type": "stream",
          "name": "stderr",
          "text": [
            "100%|██████████| 1/1 [00:16<00:00, 16.89s/it]"
          ]
        },
        {
          "output_type": "stream",
          "name": "stdout",
          "text": [
            "Query instance (original outcome : 0)\n"
          ]
        },
        {
          "output_type": "stream",
          "name": "stderr",
          "text": [
            "\n"
          ]
        },
        {
          "output_type": "display_data",
          "data": {
            "text/plain": [
              "   days  gender    age         melanch   inpatient   edu marriage  \\\n",
              "0    13  female  45-49  no melancholia  outpatient  6-10   single   \n",
              "\n",
              "                      work  madrs1  madrs2  activity_mean  activity_std  \\\n",
              "0  unemployed/sick/pension    24.0    25.0          265.3       399.881   \n",
              "\n",
              "   afftype  \n",
              "0        0  "
            ],
            "text/html": [
              "\n",
              "  <div id=\"df-ae172772-3cd2-44ac-9ecc-95f12d0b7919\">\n",
              "    <div class=\"colab-df-container\">\n",
              "      <div>\n",
              "<style scoped>\n",
              "    .dataframe tbody tr th:only-of-type {\n",
              "        vertical-align: middle;\n",
              "    }\n",
              "\n",
              "    .dataframe tbody tr th {\n",
              "        vertical-align: top;\n",
              "    }\n",
              "\n",
              "    .dataframe thead th {\n",
              "        text-align: right;\n",
              "    }\n",
              "</style>\n",
              "<table border=\"1\" class=\"dataframe\">\n",
              "  <thead>\n",
              "    <tr style=\"text-align: right;\">\n",
              "      <th></th>\n",
              "      <th>days</th>\n",
              "      <th>gender</th>\n",
              "      <th>age</th>\n",
              "      <th>melanch</th>\n",
              "      <th>inpatient</th>\n",
              "      <th>edu</th>\n",
              "      <th>marriage</th>\n",
              "      <th>work</th>\n",
              "      <th>madrs1</th>\n",
              "      <th>madrs2</th>\n",
              "      <th>activity_mean</th>\n",
              "      <th>activity_std</th>\n",
              "      <th>afftype</th>\n",
              "    </tr>\n",
              "  </thead>\n",
              "  <tbody>\n",
              "    <tr>\n",
              "      <th>0</th>\n",
              "      <td>13</td>\n",
              "      <td>female</td>\n",
              "      <td>45-49</td>\n",
              "      <td>no melancholia</td>\n",
              "      <td>outpatient</td>\n",
              "      <td>6-10</td>\n",
              "      <td>single</td>\n",
              "      <td>unemployed/sick/pension</td>\n",
              "      <td>24.0</td>\n",
              "      <td>25.0</td>\n",
              "      <td>265.3</td>\n",
              "      <td>399.881</td>\n",
              "      <td>0</td>\n",
              "    </tr>\n",
              "  </tbody>\n",
              "</table>\n",
              "</div>\n",
              "      <button class=\"colab-df-convert\" onclick=\"convertToInteractive('df-ae172772-3cd2-44ac-9ecc-95f12d0b7919')\"\n",
              "              title=\"Convert this dataframe to an interactive table.\"\n",
              "              style=\"display:none;\">\n",
              "        \n",
              "  <svg xmlns=\"http://www.w3.org/2000/svg\" height=\"24px\"viewBox=\"0 0 24 24\"\n",
              "       width=\"24px\">\n",
              "    <path d=\"M0 0h24v24H0V0z\" fill=\"none\"/>\n",
              "    <path d=\"M18.56 5.44l.94 2.06.94-2.06 2.06-.94-2.06-.94-.94-2.06-.94 2.06-2.06.94zm-11 1L8.5 8.5l.94-2.06 2.06-.94-2.06-.94L8.5 2.5l-.94 2.06-2.06.94zm10 10l.94 2.06.94-2.06 2.06-.94-2.06-.94-.94-2.06-.94 2.06-2.06.94z\"/><path d=\"M17.41 7.96l-1.37-1.37c-.4-.4-.92-.59-1.43-.59-.52 0-1.04.2-1.43.59L10.3 9.45l-7.72 7.72c-.78.78-.78 2.05 0 2.83L4 21.41c.39.39.9.59 1.41.59.51 0 1.02-.2 1.41-.59l7.78-7.78 2.81-2.81c.8-.78.8-2.07 0-2.86zM5.41 20L4 18.59l7.72-7.72 1.47 1.35L5.41 20z\"/>\n",
              "  </svg>\n",
              "      </button>\n",
              "      \n",
              "  <style>\n",
              "    .colab-df-container {\n",
              "      display:flex;\n",
              "      flex-wrap:wrap;\n",
              "      gap: 12px;\n",
              "    }\n",
              "\n",
              "    .colab-df-convert {\n",
              "      background-color: #E8F0FE;\n",
              "      border: none;\n",
              "      border-radius: 50%;\n",
              "      cursor: pointer;\n",
              "      display: none;\n",
              "      fill: #1967D2;\n",
              "      height: 32px;\n",
              "      padding: 0 0 0 0;\n",
              "      width: 32px;\n",
              "    }\n",
              "\n",
              "    .colab-df-convert:hover {\n",
              "      background-color: #E2EBFA;\n",
              "      box-shadow: 0px 1px 2px rgba(60, 64, 67, 0.3), 0px 1px 3px 1px rgba(60, 64, 67, 0.15);\n",
              "      fill: #174EA6;\n",
              "    }\n",
              "\n",
              "    [theme=dark] .colab-df-convert {\n",
              "      background-color: #3B4455;\n",
              "      fill: #D2E3FC;\n",
              "    }\n",
              "\n",
              "    [theme=dark] .colab-df-convert:hover {\n",
              "      background-color: #434B5C;\n",
              "      box-shadow: 0px 1px 3px 1px rgba(0, 0, 0, 0.15);\n",
              "      filter: drop-shadow(0px 1px 2px rgba(0, 0, 0, 0.3));\n",
              "      fill: #FFFFFF;\n",
              "    }\n",
              "  </style>\n",
              "\n",
              "      <script>\n",
              "        const buttonEl =\n",
              "          document.querySelector('#df-ae172772-3cd2-44ac-9ecc-95f12d0b7919 button.colab-df-convert');\n",
              "        buttonEl.style.display =\n",
              "          google.colab.kernel.accessAllowed ? 'block' : 'none';\n",
              "\n",
              "        async function convertToInteractive(key) {\n",
              "          const element = document.querySelector('#df-ae172772-3cd2-44ac-9ecc-95f12d0b7919');\n",
              "          const dataTable =\n",
              "            await google.colab.kernel.invokeFunction('convertToInteractive',\n",
              "                                                     [key], {});\n",
              "          if (!dataTable) return;\n",
              "\n",
              "          const docLinkHtml = 'Like what you see? Visit the ' +\n",
              "            '<a target=\"_blank\" href=https://colab.research.google.com/notebooks/data_table.ipynb>data table notebook</a>'\n",
              "            + ' to learn more about interactive tables.';\n",
              "          element.innerHTML = '';\n",
              "          dataTable['output_type'] = 'display_data';\n",
              "          await google.colab.output.renderOutput(dataTable, element);\n",
              "          const docLink = document.createElement('div');\n",
              "          docLink.innerHTML = docLinkHtml;\n",
              "          element.appendChild(docLink);\n",
              "        }\n",
              "      </script>\n",
              "    </div>\n",
              "  </div>\n",
              "  "
            ]
          },
          "metadata": {}
        },
        {
          "output_type": "stream",
          "name": "stdout",
          "text": [
            "\n",
            "Diverse Counterfactual set (new outcome: 1.0)\n"
          ]
        },
        {
          "output_type": "display_data",
          "data": {
            "text/plain": [
              "  days  gender    age         melanch   inpatient   edu marriage  \\\n",
              "0   13  female  50-54  no melancholia  outpatient  6-10   single   \n",
              "1   13  female  65-69  no melancholia  outpatient  6-10   single   \n",
              "\n",
              "                      work madrs1 madrs2 activity_mean activity_std  afftype  \n",
              "0  unemployed/sick/pension   24.0   21.2       266.001      400.001        1  \n",
              "1  unemployed/sick/pension   24.0   20.5       266.001      400.001        1  "
            ],
            "text/html": [
              "\n",
              "  <div id=\"df-cebaea24-f15d-433e-87f8-8fc66b888cf2\">\n",
              "    <div class=\"colab-df-container\">\n",
              "      <div>\n",
              "<style scoped>\n",
              "    .dataframe tbody tr th:only-of-type {\n",
              "        vertical-align: middle;\n",
              "    }\n",
              "\n",
              "    .dataframe tbody tr th {\n",
              "        vertical-align: top;\n",
              "    }\n",
              "\n",
              "    .dataframe thead th {\n",
              "        text-align: right;\n",
              "    }\n",
              "</style>\n",
              "<table border=\"1\" class=\"dataframe\">\n",
              "  <thead>\n",
              "    <tr style=\"text-align: right;\">\n",
              "      <th></th>\n",
              "      <th>days</th>\n",
              "      <th>gender</th>\n",
              "      <th>age</th>\n",
              "      <th>melanch</th>\n",
              "      <th>inpatient</th>\n",
              "      <th>edu</th>\n",
              "      <th>marriage</th>\n",
              "      <th>work</th>\n",
              "      <th>madrs1</th>\n",
              "      <th>madrs2</th>\n",
              "      <th>activity_mean</th>\n",
              "      <th>activity_std</th>\n",
              "      <th>afftype</th>\n",
              "    </tr>\n",
              "  </thead>\n",
              "  <tbody>\n",
              "    <tr>\n",
              "      <th>0</th>\n",
              "      <td>13</td>\n",
              "      <td>female</td>\n",
              "      <td>50-54</td>\n",
              "      <td>no melancholia</td>\n",
              "      <td>outpatient</td>\n",
              "      <td>6-10</td>\n",
              "      <td>single</td>\n",
              "      <td>unemployed/sick/pension</td>\n",
              "      <td>24.0</td>\n",
              "      <td>21.2</td>\n",
              "      <td>266.001</td>\n",
              "      <td>400.001</td>\n",
              "      <td>1</td>\n",
              "    </tr>\n",
              "    <tr>\n",
              "      <th>1</th>\n",
              "      <td>13</td>\n",
              "      <td>female</td>\n",
              "      <td>65-69</td>\n",
              "      <td>no melancholia</td>\n",
              "      <td>outpatient</td>\n",
              "      <td>6-10</td>\n",
              "      <td>single</td>\n",
              "      <td>unemployed/sick/pension</td>\n",
              "      <td>24.0</td>\n",
              "      <td>20.5</td>\n",
              "      <td>266.001</td>\n",
              "      <td>400.001</td>\n",
              "      <td>1</td>\n",
              "    </tr>\n",
              "  </tbody>\n",
              "</table>\n",
              "</div>\n",
              "      <button class=\"colab-df-convert\" onclick=\"convertToInteractive('df-cebaea24-f15d-433e-87f8-8fc66b888cf2')\"\n",
              "              title=\"Convert this dataframe to an interactive table.\"\n",
              "              style=\"display:none;\">\n",
              "        \n",
              "  <svg xmlns=\"http://www.w3.org/2000/svg\" height=\"24px\"viewBox=\"0 0 24 24\"\n",
              "       width=\"24px\">\n",
              "    <path d=\"M0 0h24v24H0V0z\" fill=\"none\"/>\n",
              "    <path d=\"M18.56 5.44l.94 2.06.94-2.06 2.06-.94-2.06-.94-.94-2.06-.94 2.06-2.06.94zm-11 1L8.5 8.5l.94-2.06 2.06-.94-2.06-.94L8.5 2.5l-.94 2.06-2.06.94zm10 10l.94 2.06.94-2.06 2.06-.94-2.06-.94-.94-2.06-.94 2.06-2.06.94z\"/><path d=\"M17.41 7.96l-1.37-1.37c-.4-.4-.92-.59-1.43-.59-.52 0-1.04.2-1.43.59L10.3 9.45l-7.72 7.72c-.78.78-.78 2.05 0 2.83L4 21.41c.39.39.9.59 1.41.59.51 0 1.02-.2 1.41-.59l7.78-7.78 2.81-2.81c.8-.78.8-2.07 0-2.86zM5.41 20L4 18.59l7.72-7.72 1.47 1.35L5.41 20z\"/>\n",
              "  </svg>\n",
              "      </button>\n",
              "      \n",
              "  <style>\n",
              "    .colab-df-container {\n",
              "      display:flex;\n",
              "      flex-wrap:wrap;\n",
              "      gap: 12px;\n",
              "    }\n",
              "\n",
              "    .colab-df-convert {\n",
              "      background-color: #E8F0FE;\n",
              "      border: none;\n",
              "      border-radius: 50%;\n",
              "      cursor: pointer;\n",
              "      display: none;\n",
              "      fill: #1967D2;\n",
              "      height: 32px;\n",
              "      padding: 0 0 0 0;\n",
              "      width: 32px;\n",
              "    }\n",
              "\n",
              "    .colab-df-convert:hover {\n",
              "      background-color: #E2EBFA;\n",
              "      box-shadow: 0px 1px 2px rgba(60, 64, 67, 0.3), 0px 1px 3px 1px rgba(60, 64, 67, 0.15);\n",
              "      fill: #174EA6;\n",
              "    }\n",
              "\n",
              "    [theme=dark] .colab-df-convert {\n",
              "      background-color: #3B4455;\n",
              "      fill: #D2E3FC;\n",
              "    }\n",
              "\n",
              "    [theme=dark] .colab-df-convert:hover {\n",
              "      background-color: #434B5C;\n",
              "      box-shadow: 0px 1px 3px 1px rgba(0, 0, 0, 0.15);\n",
              "      filter: drop-shadow(0px 1px 2px rgba(0, 0, 0, 0.3));\n",
              "      fill: #FFFFFF;\n",
              "    }\n",
              "  </style>\n",
              "\n",
              "      <script>\n",
              "        const buttonEl =\n",
              "          document.querySelector('#df-cebaea24-f15d-433e-87f8-8fc66b888cf2 button.colab-df-convert');\n",
              "        buttonEl.style.display =\n",
              "          google.colab.kernel.accessAllowed ? 'block' : 'none';\n",
              "\n",
              "        async function convertToInteractive(key) {\n",
              "          const element = document.querySelector('#df-cebaea24-f15d-433e-87f8-8fc66b888cf2');\n",
              "          const dataTable =\n",
              "            await google.colab.kernel.invokeFunction('convertToInteractive',\n",
              "                                                     [key], {});\n",
              "          if (!dataTable) return;\n",
              "\n",
              "          const docLinkHtml = 'Like what you see? Visit the ' +\n",
              "            '<a target=\"_blank\" href=https://colab.research.google.com/notebooks/data_table.ipynb>data table notebook</a>'\n",
              "            + ' to learn more about interactive tables.';\n",
              "          element.innerHTML = '';\n",
              "          dataTable['output_type'] = 'display_data';\n",
              "          await google.colab.output.renderOutput(dataTable, element);\n",
              "          const docLink = document.createElement('div');\n",
              "          docLink.innerHTML = docLinkHtml;\n",
              "          element.appendChild(docLink);\n",
              "        }\n",
              "      </script>\n",
              "    </div>\n",
              "  </div>\n",
              "  "
            ]
          },
          "metadata": {}
        }
      ],
      "source": [
        "\n",
        "\n",
        "\n",
        "#We take an example of our training set \n",
        "#We set the number of counterfactual explanations to 2. \n",
        "#patient_index = 2\n",
        "features_to_vary = [\n",
        "    \"marriage\",\n",
        "    #\"days\",\n",
        "    #\"melanch\",\n",
        "    #\"inpatient\",\n",
        "    \"work\",\n",
        "    \"edu\",\n",
        "    \"age\",\n",
        "    \"madrs1\",\n",
        "    \"madrs2\",\n",
        "]\n",
        "e1 = exp.generate_counterfactuals(features[patient_index:patient_index+1], \n",
        "                                  total_CFs=2, \n",
        "                                  desired_class=\"opposite\",\n",
        "                                 random_seed=3434,\n",
        "                                 features_to_vary=features_to_vary)\n",
        "#Show counterfactual explanations\n",
        "e1.visualize_as_dataframe(show_only_changes=False)"
      ]
    },
    {
      "cell_type": "markdown",
      "metadata": {
        "id": "VcixkqVndFMO"
      },
      "source": [
        "**The previous code can be modified in order to change the patient. The counterfactual example is displayed using a dataframe in which we find the features to vary, according to the bipolar disease predictive model, in order to change the output of the model. For the Patient *2*, the output of the model is that there is no bipolar disease. However, if the patient were a worker/student and the activty features were slighlty higher, then the model would have predicted a Bipolar II**"
      ]
    },
    {
      "cell_type": "code",
      "execution_count": null,
      "metadata": {
        "id": "-B5DjkRudFMO"
      },
      "outputs": [],
      "source": [
        "###Add Proba given by the model for the CF\n",
        "CF_dice = e1.cf_examples_list[0].final_cfs_df\n",
        "pred_cf = clf_rf.predict_proba(CF_dice.drop(columns=[\"afftype\"]))\n",
        "CF_dice[[\"Unipolar Prob\", \"Bipolar Prob\"]] = pred_cf"
      ]
    },
    {
      "cell_type": "code",
      "source": [
        "CF_dice"
      ],
      "metadata": {
        "colab": {
          "base_uri": "https://localhost:8080/",
          "height": 228
        },
        "id": "yVAL_u5WGTP4",
        "outputId": "040f2f4d-0ad2-45ee-d097-16a9b82b3be7"
      },
      "execution_count": null,
      "outputs": [
        {
          "output_type": "execute_result",
          "data": {
            "text/plain": [
              "  days  gender    age         melanch   inpatient   edu marriage  \\\n",
              "0   13  female  50-54  no melancholia  outpatient  6-10   single   \n",
              "1   13  female  65-69  no melancholia  outpatient  6-10   single   \n",
              "\n",
              "                      work madrs1 madrs2 activity_mean activity_std  afftype  \\\n",
              "0  unemployed/sick/pension   24.0   21.2         265.3      399.881        1   \n",
              "1  unemployed/sick/pension   24.0   20.5         265.3      399.881        1   \n",
              "\n",
              "   Unipolar Prob  Bipolar Prob  \n",
              "0           0.36          0.64  \n",
              "1           0.48          0.52  "
            ],
            "text/html": [
              "\n",
              "  <div id=\"df-12d379cc-caeb-4a43-9a12-44cf4128b0e0\">\n",
              "    <div class=\"colab-df-container\">\n",
              "      <div>\n",
              "<style scoped>\n",
              "    .dataframe tbody tr th:only-of-type {\n",
              "        vertical-align: middle;\n",
              "    }\n",
              "\n",
              "    .dataframe tbody tr th {\n",
              "        vertical-align: top;\n",
              "    }\n",
              "\n",
              "    .dataframe thead th {\n",
              "        text-align: right;\n",
              "    }\n",
              "</style>\n",
              "<table border=\"1\" class=\"dataframe\">\n",
              "  <thead>\n",
              "    <tr style=\"text-align: right;\">\n",
              "      <th></th>\n",
              "      <th>days</th>\n",
              "      <th>gender</th>\n",
              "      <th>age</th>\n",
              "      <th>melanch</th>\n",
              "      <th>inpatient</th>\n",
              "      <th>edu</th>\n",
              "      <th>marriage</th>\n",
              "      <th>work</th>\n",
              "      <th>madrs1</th>\n",
              "      <th>madrs2</th>\n",
              "      <th>activity_mean</th>\n",
              "      <th>activity_std</th>\n",
              "      <th>afftype</th>\n",
              "      <th>Unipolar Prob</th>\n",
              "      <th>Bipolar Prob</th>\n",
              "    </tr>\n",
              "  </thead>\n",
              "  <tbody>\n",
              "    <tr>\n",
              "      <th>0</th>\n",
              "      <td>13</td>\n",
              "      <td>female</td>\n",
              "      <td>50-54</td>\n",
              "      <td>no melancholia</td>\n",
              "      <td>outpatient</td>\n",
              "      <td>6-10</td>\n",
              "      <td>single</td>\n",
              "      <td>unemployed/sick/pension</td>\n",
              "      <td>24.0</td>\n",
              "      <td>21.2</td>\n",
              "      <td>265.3</td>\n",
              "      <td>399.881</td>\n",
              "      <td>1</td>\n",
              "      <td>0.36</td>\n",
              "      <td>0.64</td>\n",
              "    </tr>\n",
              "    <tr>\n",
              "      <th>1</th>\n",
              "      <td>13</td>\n",
              "      <td>female</td>\n",
              "      <td>65-69</td>\n",
              "      <td>no melancholia</td>\n",
              "      <td>outpatient</td>\n",
              "      <td>6-10</td>\n",
              "      <td>single</td>\n",
              "      <td>unemployed/sick/pension</td>\n",
              "      <td>24.0</td>\n",
              "      <td>20.5</td>\n",
              "      <td>265.3</td>\n",
              "      <td>399.881</td>\n",
              "      <td>1</td>\n",
              "      <td>0.48</td>\n",
              "      <td>0.52</td>\n",
              "    </tr>\n",
              "  </tbody>\n",
              "</table>\n",
              "</div>\n",
              "      <button class=\"colab-df-convert\" onclick=\"convertToInteractive('df-12d379cc-caeb-4a43-9a12-44cf4128b0e0')\"\n",
              "              title=\"Convert this dataframe to an interactive table.\"\n",
              "              style=\"display:none;\">\n",
              "        \n",
              "  <svg xmlns=\"http://www.w3.org/2000/svg\" height=\"24px\"viewBox=\"0 0 24 24\"\n",
              "       width=\"24px\">\n",
              "    <path d=\"M0 0h24v24H0V0z\" fill=\"none\"/>\n",
              "    <path d=\"M18.56 5.44l.94 2.06.94-2.06 2.06-.94-2.06-.94-.94-2.06-.94 2.06-2.06.94zm-11 1L8.5 8.5l.94-2.06 2.06-.94-2.06-.94L8.5 2.5l-.94 2.06-2.06.94zm10 10l.94 2.06.94-2.06 2.06-.94-2.06-.94-.94-2.06-.94 2.06-2.06.94z\"/><path d=\"M17.41 7.96l-1.37-1.37c-.4-.4-.92-.59-1.43-.59-.52 0-1.04.2-1.43.59L10.3 9.45l-7.72 7.72c-.78.78-.78 2.05 0 2.83L4 21.41c.39.39.9.59 1.41.59.51 0 1.02-.2 1.41-.59l7.78-7.78 2.81-2.81c.8-.78.8-2.07 0-2.86zM5.41 20L4 18.59l7.72-7.72 1.47 1.35L5.41 20z\"/>\n",
              "  </svg>\n",
              "      </button>\n",
              "      \n",
              "  <style>\n",
              "    .colab-df-container {\n",
              "      display:flex;\n",
              "      flex-wrap:wrap;\n",
              "      gap: 12px;\n",
              "    }\n",
              "\n",
              "    .colab-df-convert {\n",
              "      background-color: #E8F0FE;\n",
              "      border: none;\n",
              "      border-radius: 50%;\n",
              "      cursor: pointer;\n",
              "      display: none;\n",
              "      fill: #1967D2;\n",
              "      height: 32px;\n",
              "      padding: 0 0 0 0;\n",
              "      width: 32px;\n",
              "    }\n",
              "\n",
              "    .colab-df-convert:hover {\n",
              "      background-color: #E2EBFA;\n",
              "      box-shadow: 0px 1px 2px rgba(60, 64, 67, 0.3), 0px 1px 3px 1px rgba(60, 64, 67, 0.15);\n",
              "      fill: #174EA6;\n",
              "    }\n",
              "\n",
              "    [theme=dark] .colab-df-convert {\n",
              "      background-color: #3B4455;\n",
              "      fill: #D2E3FC;\n",
              "    }\n",
              "\n",
              "    [theme=dark] .colab-df-convert:hover {\n",
              "      background-color: #434B5C;\n",
              "      box-shadow: 0px 1px 3px 1px rgba(0, 0, 0, 0.15);\n",
              "      filter: drop-shadow(0px 1px 2px rgba(0, 0, 0, 0.3));\n",
              "      fill: #FFFFFF;\n",
              "    }\n",
              "  </style>\n",
              "\n",
              "      <script>\n",
              "        const buttonEl =\n",
              "          document.querySelector('#df-12d379cc-caeb-4a43-9a12-44cf4128b0e0 button.colab-df-convert');\n",
              "        buttonEl.style.display =\n",
              "          google.colab.kernel.accessAllowed ? 'block' : 'none';\n",
              "\n",
              "        async function convertToInteractive(key) {\n",
              "          const element = document.querySelector('#df-12d379cc-caeb-4a43-9a12-44cf4128b0e0');\n",
              "          const dataTable =\n",
              "            await google.colab.kernel.invokeFunction('convertToInteractive',\n",
              "                                                     [key], {});\n",
              "          if (!dataTable) return;\n",
              "\n",
              "          const docLinkHtml = 'Like what you see? Visit the ' +\n",
              "            '<a target=\"_blank\" href=https://colab.research.google.com/notebooks/data_table.ipynb>data table notebook</a>'\n",
              "            + ' to learn more about interactive tables.';\n",
              "          element.innerHTML = '';\n",
              "          dataTable['output_type'] = 'display_data';\n",
              "          await google.colab.output.renderOutput(dataTable, element);\n",
              "          const docLink = document.createElement('div');\n",
              "          docLink.innerHTML = docLinkHtml;\n",
              "          element.appendChild(docLink);\n",
              "        }\n",
              "      </script>\n",
              "    </div>\n",
              "  </div>\n",
              "  "
            ]
          },
          "metadata": {},
          "execution_count": 56
        }
      ]
    },
    {
      "cell_type": "code",
      "source": [
        ""
      ],
      "metadata": {
        "id": "-tTJ8-jwHQFN"
      },
      "execution_count": null,
      "outputs": []
    }
  ],
  "metadata": {
    "colab": {
      "name": "XAI_Tutorial_DIverse_Counterfactual_Explanations_(DICE) for Bipolar Disease Prediction.ipynb",
      "provenance": []
    },
    "kernelspec": {
      "display_name": "Python 3",
      "language": "python",
      "name": "python3"
    },
    "language_info": {
      "codemirror_mode": {
        "name": "ipython",
        "version": 3
      },
      "file_extension": ".py",
      "mimetype": "text/x-python",
      "name": "python",
      "nbconvert_exporter": "python",
      "pygments_lexer": "ipython3",
      "version": "3.8.8"
    }
  },
  "nbformat": 4,
  "nbformat_minor": 0
}